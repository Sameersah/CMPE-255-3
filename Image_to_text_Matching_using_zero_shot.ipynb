{
  "nbformat": 4,
  "nbformat_minor": 0,
  "metadata": {
    "colab": {
      "provenance": [],
      "authorship_tag": "ABX9TyMSHp0I2iUxDVGh9S95qtjG",
      "include_colab_link": true
    },
    "kernelspec": {
      "name": "python3",
      "display_name": "Python 3"
    },
    "language_info": {
      "name": "python"
    }
  },
  "cells": [
    {
      "cell_type": "markdown",
      "metadata": {
        "id": "view-in-github",
        "colab_type": "text"
      },
      "source": [
        "<a href=\"https://colab.research.google.com/github/Sameersah/CMPE-255-3/blob/main/Image_to_text_Matching_using_zero_shot.ipynb\" target=\"_parent\"><img src=\"https://colab.research.google.com/assets/colab-badge.svg\" alt=\"Open In Colab\"/></a>"
      ]
    },
    {
      "cell_type": "markdown",
      "source": [
        "## Install"
      ],
      "metadata": {
        "id": "4_Dz0egMIqTY"
      }
    },
    {
      "cell_type": "code",
      "execution_count": null,
      "metadata": {
        "id": "QqqGaaqiIkjN"
      },
      "outputs": [],
      "source": [
        "!pip install autogluon.multimodal"
      ]
    },
    {
      "cell_type": "markdown",
      "source": [],
      "metadata": {
        "id": "-wH6rjN1IwoQ"
      }
    },
    {
      "cell_type": "code",
      "source": [
        "from autogluon.multimodal import download\n",
        "\n",
        "texts = [\n",
        "    \"A cheetah chases prey on across a field.\",\n",
        "    \"A man is eating a piece of bread.\",\n",
        "    \"The girl is carrying a baby.\",\n",
        "    \"There is an airplane over a car.\",\n",
        "    \"A man is riding a horse.\",\n",
        "    \"Two men pushed carts through the woods.\",\n",
        "    \"There is a carriage in the image.\",\n",
        "    \"A man is riding a white horse on an enclosed ground.\",\n",
        "    \"A monkey is playing drums.\",\n",
        "]\n",
        "\n",
        "urls = ['http://farm4.staticflickr.com/3179/2872917634_f41e6987a8_z.jpg',\n",
        "        'http://farm4.staticflickr.com/3629/3608371042_75f9618851_z.jpg',\n",
        "        'https://farm4.staticflickr.com/3795/9591251800_9c9727e178_z.jpg',\n",
        "        'http://farm8.staticflickr.com/7188/6848765123_252bfca33d_z.jpg',\n",
        "        'https://farm6.staticflickr.com/5251/5548123650_1a69ce1e34_z.jpg']\n",
        "\n",
        "image_paths = [download(url) for url in urls]"
      ],
      "metadata": {
        "id": "gFi3outVIwtu"
      },
      "execution_count": null,
      "outputs": []
    },
    {
      "cell_type": "markdown",
      "source": [],
      "metadata": {
        "id": "ci8-IwP1I2zR"
      }
    },
    {
      "cell_type": "code",
      "source": [
        "from autogluon.multimodal import MultiModalPredictor\n",
        "predictor = MultiModalPredictor(problem_type=\"image_text_similarity\")"
      ],
      "metadata": {
        "id": "KUJ8Jz2XI27y"
      },
      "execution_count": null,
      "outputs": []
    },
    {
      "cell_type": "markdown",
      "source": [],
      "metadata": {
        "id": "fd-zN8uzI6Q5"
      }
    },
    {
      "cell_type": "code",
      "source": [
        "image_embeddings = predictor.extract_embedding(image_paths, as_tensor=True)\n",
        "print(image_embeddings.shape)"
      ],
      "metadata": {
        "id": "xv2xweKyI6Vh"
      },
      "execution_count": null,
      "outputs": []
    },
    {
      "cell_type": "markdown",
      "source": [],
      "metadata": {
        "id": "C-EORpHMI8k1"
      }
    },
    {
      "cell_type": "code",
      "source": [
        "text_embeddings = predictor.extract_embedding(texts, as_tensor=True)\n",
        "print(text_embeddings.shape)"
      ],
      "metadata": {
        "id": "Z8mm-v5pI8r_"
      },
      "execution_count": null,
      "outputs": []
    },
    {
      "cell_type": "markdown",
      "source": [],
      "metadata": {
        "id": "pTMwPZpLI-T4"
      }
    },
    {
      "cell_type": "code",
      "source": [
        "print(texts[6])"
      ],
      "metadata": {
        "id": "KuyUpp7TI-Y3"
      },
      "execution_count": null,
      "outputs": []
    },
    {
      "cell_type": "markdown",
      "source": [],
      "metadata": {
        "id": "JrpqfcU1JATe"
      }
    },
    {
      "cell_type": "code",
      "source": [
        "from autogluon.multimodal.utils import semantic_search\n",
        "hits = semantic_search(\n",
        "        matcher=predictor,\n",
        "        query_embeddings=text_embeddings[6][None,],\n",
        "        response_embeddings=image_embeddings,\n",
        "        top_k=5,\n",
        "    )\n",
        "print(hits)"
      ],
      "metadata": {
        "id": "E-PkeDe2JAZP"
      },
      "execution_count": null,
      "outputs": []
    },
    {
      "cell_type": "markdown",
      "source": [],
      "metadata": {
        "id": "WEAU8JbjJCQp"
      }
    },
    {
      "cell_type": "code",
      "source": [
        "from IPython.display import Image, display\n",
        "pil_img = Image(filename=image_paths[hits[0][0][\"response_id\"]])\n",
        "display(pil_img)"
      ],
      "metadata": {
        "id": "lU5k8NLqJCVC"
      },
      "execution_count": null,
      "outputs": []
    },
    {
      "cell_type": "markdown",
      "source": [],
      "metadata": {
        "id": "57TAChpfJEMY"
      }
    },
    {
      "cell_type": "code",
      "source": [
        "pil_img = Image(filename=image_paths[4])\n",
        "display(pil_img)"
      ],
      "metadata": {
        "id": "tnfHaNLTJEUG"
      },
      "execution_count": null,
      "outputs": []
    },
    {
      "cell_type": "markdown",
      "source": [],
      "metadata": {
        "id": "olnIgqzzJIWT"
      }
    },
    {
      "cell_type": "code",
      "source": [
        "hits = semantic_search(\n",
        "        matcher=predictor,\n",
        "        query_embeddings=image_embeddings[4][None,],\n",
        "        response_embeddings=text_embeddings,\n",
        "        top_k=5,\n",
        "    )\n",
        "print(hits)"
      ],
      "metadata": {
        "id": "mGnlCfN1JIdd"
      },
      "execution_count": null,
      "outputs": []
    },
    {
      "cell_type": "markdown",
      "source": [],
      "metadata": {
        "id": "SsrvTxjGJKeS"
      }
    },
    {
      "cell_type": "code",
      "source": [
        "texts[hits[0][0][\"response_id\"]]"
      ],
      "metadata": {
        "id": "WtTz_lRZJKiu"
      },
      "execution_count": null,
      "outputs": []
    },
    {
      "cell_type": "markdown",
      "source": [],
      "metadata": {
        "id": "tQHYEVCgJMTu"
      }
    },
    {
      "cell_type": "code",
      "source": [
        "predictor = MultiModalPredictor(\n",
        "            query=\"abc\",\n",
        "            response=\"xyz\",\n",
        "            problem_type=\"image_text_similarity\",\n",
        "        )"
      ],
      "metadata": {
        "id": "39Uql9lrJMYj"
      },
      "execution_count": null,
      "outputs": []
    },
    {
      "cell_type": "markdown",
      "source": [],
      "metadata": {
        "id": "kTiIpDn1JOMx"
      }
    },
    {
      "cell_type": "code",
      "source": [
        "pred = predictor.predict({\"abc\": [image_paths[4]], \"xyz\": [texts[3]]})\n",
        "print(pred)"
      ],
      "metadata": {
        "id": "D9_tw2VUJORb"
      },
      "execution_count": null,
      "outputs": []
    },
    {
      "cell_type": "markdown",
      "source": [],
      "metadata": {
        "id": "9X7W8yOsJUOi"
      }
    },
    {
      "cell_type": "code",
      "source": [
        "proba = predictor.predict_proba({\"abc\": [image_paths[4]], \"xyz\": [texts[3]]})\n",
        "print(proba)"
      ],
      "metadata": {
        "id": "vru54BfNJUTL"
      },
      "execution_count": null,
      "outputs": []
    },
    {
      "cell_type": "markdown",
      "source": [],
      "metadata": {
        "id": "xdselhVOJV8g"
      }
    },
    {
      "cell_type": "code",
      "source": [
        "proba = predictor.predict_proba({\"abc\": [image_paths[4]], \"xyz\": [texts[3]]})\n",
        "print(proba)"
      ],
      "metadata": {
        "id": "sch2HoVBJWAt"
      },
      "execution_count": null,
      "outputs": []
    }
  ]
}